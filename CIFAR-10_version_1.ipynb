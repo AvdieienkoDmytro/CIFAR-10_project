{
 "cells": [
  {
   "cell_type": "markdown",
   "id": "549631772e7fa96f",
   "metadata": {},
   "source": [
    "# Load data"
   ]
  },
  {
   "cell_type": "markdown",
   "id": "86e1f63599a35836",
   "metadata": {},
   "source": [
    "## Imports"
   ]
  },
  {
   "cell_type": "code",
   "execution_count": 1,
   "id": "initial_id",
   "metadata": {},
   "outputs": [
    {
     "name": "stderr",
     "output_type": "stream",
     "text": [
      "2024-06-24 00:24:06.393453: I external/local_tsl/tsl/cuda/cudart_stub.cc:32] Could not find cuda drivers on your machine, GPU will not be used.\n",
      "2024-06-24 00:24:07.214840: I external/local_tsl/tsl/cuda/cudart_stub.cc:32] Could not find cuda drivers on your machine, GPU will not be used.\n",
      "2024-06-24 00:24:10.031265: I tensorflow/core/platform/cpu_feature_guard.cc:210] This TensorFlow binary is optimized to use available CPU instructions in performance-critical operations.\n",
      "To enable the following instructions: AVX2 FMA, in other operations, rebuild TensorFlow with the appropriate compiler flags.\n",
      "2024-06-24 00:24:16.942538: W tensorflow/compiler/tf2tensorrt/utils/py_utils.cc:38] TF-TRT Warning: Could not find TensorRT\n"
     ]
    }
   ],
   "source": [
    "# Імпорт необхідних бібліотек\n",
    "import os\n",
    "import urllib.request\n",
    "import tarfile\n",
    "\n",
    "import numpy as np\n",
    "import matplotlib.pyplot as plt\n",
    "import tensorflow as tf\n",
    "from tensorflow.keras.datasets import cifar10\n",
    "from tensorflow.keras.utils import to_categorical"
   ]
  },
  {
   "cell_type": "markdown",
   "id": "da03c6d2292c9a56",
   "metadata": {},
   "source": [
    "## Load and prepare data"
   ]
  },
  {
   "cell_type": "code",
   "execution_count": null,
   "id": "c3093e4995be6e9",
   "metadata": {},
   "outputs": [],
   "source": [
    "# Функція для завантаження та розпакування CIFAR-10 датасету\n",
    "def download_and_extract_cifar10(destination_folder=\"data\"):\n",
    "    url = \"https://www.cs.toronto.edu/~kriz/cifar-10-python.tar.gz\"\n",
    "    filename = os.path.join(destination_folder, \"cifar-10-python.tar.gz\")\n",
    "\n",
    "    if not os.path.exists(destination_folder):\n",
    "        os.makedirs(destination_folder)\n",
    "\n",
    "    if not os.path.exists(filename):\n",
    "        print(\"Downloading CIFAR-10 dataset...\")\n",
    "        urllib.request.urlretrieve(url, filename)\n",
    "        print(\"Download complete.\")\n",
    "\n",
    "    with tarfile.open(filename, \"r:gz\") as tar:\n",
    "        print(\"Extracting CIFAR-10 dataset...\")\n",
    "        tar.extractall(path=destination_folder)\n",
    "        print(\"Extraction complete.\")\n",
    "\n",
    "# Виклик функції для завантаження та розпакування датасету\n",
    "download_and_extract_cifar10()\n",
    "\n",
    "# Завантаження CIFAR-10 датасету через TensorFlow\n",
    "(x_train, y_train), (x_test, y_test) = cifar10.load_data()\n",
    "\n",
    "# Перетворення міток у one-hot encoding\n",
    "y_train = to_categorical(y_train, 10)\n",
    "y_test = to_categorical(y_test, 10)\n",
    "\n",
    "# Нормалізація даних\n",
    "x_train = x_train.astype('float32') / 255.0\n",
    "x_test = x_test.astype('float32') / 255.0\n",
    "\n",
    "# Виведення форми масивів даних\n",
    "print(\"Training data shape: \", x_train.shape)\n",
    "print(\"Training labels shape: \", y_train.shape)\n",
    "print(\"Test data shape: \", x_test.shape)\n",
    "print(\"Test labels shape: \", y_test.shape)"
   ]
  },
  {
   "cell_type": "markdown",
   "id": "2750a8c11e4d631c",
   "metadata": {},
   "source": [
    "## See data"
   ]
  },
  {
   "cell_type": "code",
   "execution_count": null,
   "id": "59e7d970f83a51af",
   "metadata": {},
   "outputs": [],
   "source": [
    "# Візуалізація деяких зображень з тренувального набору\n",
    "def plot_sample_images(x, y, classes, num_samples=10):\n",
    "    fig, axes = plt.subplots(1, num_samples, figsize=(15, 15))\n",
    "    axes = axes.flatten()\n",
    "    for i in range(num_samples):\n",
    "        axes[i].imshow(x[i])\n",
    "        axes[i].set_title(classes[np.argmax(y[i])])\n",
    "        axes[i].axis('off')\n",
    "    plt.tight_layout()\n",
    "    plt.show()\n",
    "\n",
    "# Назви класів CIFAR-10\n",
    "class_names = [\"airplane\", \"automobile\", \"bird\", \"cat\", \"deer\", \"dog\", \"frog\", \"horse\", \"ship\", \"truck\"]\n",
    "\n",
    "# Візуалізація перших 10 зображень з тренувального набору\n",
    "plot_sample_images(x_train, y_train, class_names)"
   ]
  }
 ],
 "metadata": {
  "kernelspec": {
   "display_name": "Python 3",
   "language": "python",
   "name": "python3"
  },
  "language_info": {
   "codemirror_mode": {
    "name": "ipython",
    "version": 3
   },
   "file_extension": ".py",
   "mimetype": "text/x-python",
   "name": "python",
   "nbconvert_exporter": "python",
   "pygments_lexer": "ipython3",
   "version": "3.10.4"
  }
 },
 "nbformat": 4,
 "nbformat_minor": 5
}
