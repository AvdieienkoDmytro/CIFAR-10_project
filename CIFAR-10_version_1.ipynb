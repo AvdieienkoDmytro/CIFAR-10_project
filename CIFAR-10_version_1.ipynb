{
 "cells": [
  {
   "metadata": {},
   "cell_type": "markdown",
   "source": "# Load data",
   "id": "549631772e7fa96f"
  },
  {
   "metadata": {},
   "cell_type": "markdown",
   "source": "## Imports",
   "id": "86e1f63599a35836"
  },
  {
   "metadata": {
    "ExecuteTime": {
     "end_time": "2024-06-23T14:51:32.253630Z",
     "start_time": "2024-06-23T14:51:31.633577Z"
    }
   },
   "cell_type": "code",
   "source": [
    "# Імпорт необхідних бібліотек\n",
    "import os\n",
    "import urllib.request\n",
    "import tarfile\n",
    "import numpy as np\n",
    "import matplotlib.pyplot as plt\n",
    "import tensorflow as tf\n",
    "from tensorflow.keras.datasets import cifar10\n",
    "from tensorflow.keras.utils import to_categorical"
   ],
   "id": "initial_id",
   "outputs": [
    {
     "ename": "ModuleNotFoundError",
     "evalue": "No module named 'tensorflow'",
     "output_type": "error",
     "traceback": [
      "\u001B[1;31m---------------------------------------------------------------------------\u001B[0m",
      "\u001B[1;31mModuleNotFoundError\u001B[0m                       Traceback (most recent call last)",
      "Cell \u001B[1;32mIn[1], line 7\u001B[0m\n\u001B[0;32m      5\u001B[0m \u001B[38;5;28;01mimport\u001B[39;00m \u001B[38;5;21;01mnumpy\u001B[39;00m \u001B[38;5;28;01mas\u001B[39;00m \u001B[38;5;21;01mnp\u001B[39;00m\n\u001B[0;32m      6\u001B[0m \u001B[38;5;28;01mimport\u001B[39;00m \u001B[38;5;21;01mmatplotlib\u001B[39;00m\u001B[38;5;21;01m.\u001B[39;00m\u001B[38;5;21;01mpyplot\u001B[39;00m \u001B[38;5;28;01mas\u001B[39;00m \u001B[38;5;21;01mplt\u001B[39;00m\n\u001B[1;32m----> 7\u001B[0m \u001B[38;5;28;01mimport\u001B[39;00m \u001B[38;5;21;01mtensorflow\u001B[39;00m \u001B[38;5;28;01mas\u001B[39;00m \u001B[38;5;21;01mtf\u001B[39;00m\n\u001B[0;32m      8\u001B[0m \u001B[38;5;28;01mfrom\u001B[39;00m \u001B[38;5;21;01mtensorflow\u001B[39;00m\u001B[38;5;21;01m.\u001B[39;00m\u001B[38;5;21;01mkeras\u001B[39;00m\u001B[38;5;21;01m.\u001B[39;00m\u001B[38;5;21;01mdatasets\u001B[39;00m \u001B[38;5;28;01mimport\u001B[39;00m cifar10\n\u001B[0;32m      9\u001B[0m \u001B[38;5;28;01mfrom\u001B[39;00m \u001B[38;5;21;01mtensorflow\u001B[39;00m\u001B[38;5;21;01m.\u001B[39;00m\u001B[38;5;21;01mkeras\u001B[39;00m\u001B[38;5;21;01m.\u001B[39;00m\u001B[38;5;21;01mutils\u001B[39;00m \u001B[38;5;28;01mimport\u001B[39;00m to_categorical\n",
      "\u001B[1;31mModuleNotFoundError\u001B[0m: No module named 'tensorflow'"
     ]
    }
   ],
   "execution_count": 1
  },
  {
   "metadata": {},
   "cell_type": "markdown",
   "source": "## load and prepair data",
   "id": "da03c6d2292c9a56"
  },
  {
   "metadata": {},
   "cell_type": "code",
   "source": [
    "# Функція для завантаження та розпакування CIFAR-10 датасету\n",
    "def download_and_extract_cifar10(destination_folder=\"data\"):\n",
    "    url = \"https://www.cs.toronto.edu/~kriz/cifar-10-python.tar.gz\"\n",
    "    filename = os.path.join(destination_folder, \"cifar-10-python.tar.gz\")\n",
    "\n",
    "    if not os.path.exists(destination_folder):\n",
    "        os.makedirs(destination_folder)\n",
    "\n",
    "    if not os.path.exists(filename):\n",
    "        print(\"Downloading CIFAR-10 dataset...\")\n",
    "        urllib.request.urlretrieve(url, filename)\n",
    "        print(\"Download complete.\")\n",
    "\n",
    "    with tarfile.open(filename, \"r:gz\") as tar:\n",
    "        print(\"Extracting CIFAR-10 dataset...\")\n",
    "        tar.extractall(path=destination_folder)\n",
    "        print(\"Extraction complete.\")\n",
    "\n",
    "# Виклик функції для завантаження та розпакування датасету\n",
    "download_and_extract_cifar10()\n",
    "\n",
    "# Завантаження CIFAR-10 датасету через TensorFlow\n",
    "(x_train, y_train), (x_test, y_test) = cifar10.load_data()\n",
    "\n",
    "# Перетворення міток у one-hot encoding\n",
    "y_train = to_categorical(y_train, 10)\n",
    "y_test = to_categorical(y_test, 10)\n",
    "\n",
    "# Нормалізація даних\n",
    "x_train = x_train.astype('float32') / 255.0\n",
    "x_test = x_test.astype('float32') / 255.0\n",
    "\n",
    "# Виведення форми масивів даних\n",
    "print(\"Training data shape: \", x_train.shape)\n",
    "print(\"Training labels shape: \", y_train.shape)\n",
    "print(\"Test data shape: \", x_test.shape)\n",
    "print(\"Test labels shape: \", y_test.shape)"
   ],
   "id": "c3093e4995be6e9",
   "outputs": [],
   "execution_count": null
  },
  {
   "metadata": {},
   "cell_type": "markdown",
   "source": "## See data",
   "id": "2750a8c11e4d631c"
  },
  {
   "metadata": {},
   "cell_type": "code",
   "source": [
    "# Візуалізація деяких зображень з тренувального набору\n",
    "def plot_sample_images(x, y, classes, num_samples=10):\n",
    "    fig, axes = plt.subplots(1, num_samples, figsize=(15, 15))\n",
    "    axes = axes.flatten()\n",
    "    for i in range(num_samples):\n",
    "        axes[i].imshow(x[i])\n",
    "        axes[i].set_title(classes[np.argmax(y[i])])\n",
    "        axes[i].axis('off')\n",
    "    plt.tight_layout()\n",
    "    plt.show()\n",
    "\n",
    "# Назви класів CIFAR-10\n",
    "class_names = [\"airplane\", \"automobile\", \"bird\", \"cat\", \"deer\", \"dog\", \"frog\", \"horse\", \"ship\", \"truck\"]\n",
    "\n",
    "# Візуалізація перших 10 зображень з тренувального набору\n",
    "plot_sample_images(x_train, y_train, class_names)"
   ],
   "id": "59e7d970f83a51af",
   "outputs": [],
   "execution_count": null
  }
 ],
 "metadata": {
  "kernelspec": {
   "display_name": "Python 3",
   "language": "python",
   "name": "python3"
  },
  "language_info": {
   "codemirror_mode": {
    "name": "ipython",
    "version": 2
   },
   "file_extension": ".py",
   "mimetype": "text/x-python",
   "name": "python",
   "nbconvert_exporter": "python",
   "pygments_lexer": "ipython2",
   "version": "2.7.6"
  }
 },
 "nbformat": 4,
 "nbformat_minor": 5
}
